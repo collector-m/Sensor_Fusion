{
 "cells": [
  {
   "cell_type": "markdown",
   "metadata": {},
   "source": [
    "# Sensor Fusion\n",
    "\n",
    "---\n",
    "<font size=\"3\">\n",
    "    \n",
    "*  Learn to detect obstacles in lidar point clouds through clustering and segmentation</br>\n",
    "</br>\n",
    "*  Apply thresholds and filters to radar data in order to accurately track objects\n",
    "\n",
    "* Augment your perception by projecting camera images into three dimensions and fusing these projections with other sensor data\n",
    "\n",
    "* Combine this sensor data with Kalman filters to perceive the world around a vehicle and track objects over time\n",
    "</font>\n",
    "---"
   ]
  },
  {
   "cell_type": "markdown",
   "metadata": {},
   "source": [
    "### Lidar Obstcle Detection\n",
    "<table><tr>\n",
    "<td>\n",
    "<figure>\n",
    "    <img  src=\"./images/Lidar_Obstacle0.gif\" alt=\"Drawing\" style=\"width: 350px;\"/>\n",
    "    <center>Lidar Obstcle Detection</center>\n",
    "</figure></td>\n",
    "\n",
    "<td><figure>\n",
    "    <img  src=\"./images/Lidar_Obstacle1.gif\" alt=\"Drawing\" style=\"width: 350px;\"/>\n",
    "    <center>Lidar Obstcle Detection</center>\n",
    "</figure>\n",
    "  </td>  \n",
    "<td><figure>\n",
    "    <img  src=\"./images/Lidar_Obstacle2.gif\" alt=\"Drawing\" style=\"width: 350px;\"/>\n",
    "    <center>Lidar Obstcle Detection</center>\n",
    "</figure>\n",
    "  </td>\n",
    "</tr></table>"
   ]
  },
  {
   "cell_type": "markdown",
   "metadata": {},
   "source": [
    "---\n",
    "---"
   ]
  },
  {
   "cell_type": "markdown",
   "metadata": {},
   "source": [
    "\n",
    "### 2D Feature Matching\n",
    "\n",
    "<figure>\n",
    "    <img  src=\"./images/2D_Features.gif\" alt=\"Drawing\" style=\"height: 500 width: 1000px;\"/>\n",
    "    <center>2D_Features</center>\n"
   ]
  }
 ],
 "metadata": {
  "kernelspec": {
   "display_name": "Python 2",
   "language": "python",
   "name": "python2"
  },
  "language_info": {
   "codemirror_mode": {
    "name": "ipython",
    "version": 2
   },
   "file_extension": ".py",
   "mimetype": "text/x-python",
   "name": "python",
   "nbconvert_exporter": "python",
   "pygments_lexer": "ipython2",
   "version": "2.7.12"
  }
 },
 "nbformat": 4,
 "nbformat_minor": 2
}
